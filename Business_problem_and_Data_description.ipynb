{
 "cells": [
  {
   "cell_type": "markdown",
   "metadata": {},
   "source": [
    "# Coursera Capstone Project (Week 4)\n",
    " Battle of Neighborhoods"
   ]
  },
  {
   "cell_type": "markdown",
   "metadata": {},
   "source": [
    "## Introduction/Business Problem"
   ]
  },
  {
   "cell_type": "markdown",
   "metadata": {},
   "source": [
    "A Real Estate Agency is looking to improve its customer service experience by finding and suggesting neighborhoods which are similar to the customer's previous neighborhood. The basis for similarity measurement between neighborhoods should be the venues (e.g Cafe Shops, Supermarkets, Restaurants, Pharmacies, Gas Stations etc)  within the neighborhood. The Agency has its operation base in Florida, Ohio and Texas and wants to find all similar neighborhoods in the three states they operate.\n",
    "\n",
    "---"
   ]
  },
  {
   "cell_type": "markdown",
   "metadata": {},
   "source": [
    "## Problem Statement\n",
    "\n",
    "Grouping neighborhoods in Florida, Ohia and Texas into clusters based on similarity of venues withing the neighborhoods\n",
    "\n",
    "---"
   ]
  },
  {
   "cell_type": "markdown",
   "metadata": {},
   "source": [
    "## Data Description"
   ]
  },
  {
   "cell_type": "markdown",
   "metadata": {},
   "source": [
    "For the Florida, Ohio and Texas neighboorhood data, we shall be webscrapping the information of the boroughs and respective neighborhoods for the three states from wikipedia pages.  \n",
    "\n",
    "Florida: https://en.wikipedia.org/wiki/List_of_municipalities_in_Florida\n",
    "\n",
    "Ohio: https://en.wikipedia.org/wiki/List_of_cities_in_Ohio\n",
    "\n",
    "Texas: https://en.wikipedia.org/wiki/List_of_cities_in_Texas\n",
    "\n",
    "from the tables, we shall extract only the borough and the neighborhood columns. \n",
    "\n",
    "|    |Borough\t|Neighborhood\t|\n",
    "|:---|:-----|:------| \n",
    "|0\t|Allen\t|Delphos, Lima\t|\n",
    "|1\t|Ashland\t|Ashland\t|\n",
    "|2\t|Ashtabula\t|Ashtabula, Conneaut, Geneva\t|\n",
    "|3\t|Athens\t|Athens, Nelsonville\t|\n",
    "|4\t|Auglaize\t|Saint Marys, Wapakoneta\t|\n",
    "\n",
    "\n",
    "---\n",
    "\n",
    "\n",
    "To utilize the Floursquare API to get the location data of the neighborhoods and explore its venues,  we need to get the latitude and longitude of the different neighboorhoods using any appropriate geocoding library (geocoder library was used in this project with the ArcGis API). The neighborhoods will be geocoded by the geocoder their respective latitudes and longitudes will be extracted and added to the dataframe.\n",
    "\n",
    "\n",
    "The data which we will be exploring with the foursquare API is of this format:\n",
    "\n",
    "|    |Borough\t|Neighborhood\t|Latitude\t|Longitude|\n",
    "|:---|:-----|:------|:------- |:-------|  \n",
    "|0\t|Allen\t|Delphos, Lima\t|40.771510\t|-84.105802|\n",
    "|1\t|Ashland\t|Ashland\t|40.868650\t|-82.315500|\n",
    "|2\t|Ashtabula\t|Ashtabula, Conneaut, Geneva\t|41.889260\t|-80.786730|\n",
    "|3\t|Athens\t|Athens, Nelsonville\t|39.328500\t|-82.104440|\n",
    "|4\t|Auglaize\t|Saint Marys, Wapakoneta\t|40.560902\t|-84.221740|\n",
    "\n",
    "\n",
    "\n",
    "   "
   ]
  }
 ],
 "metadata": {
  "kernelspec": {
   "display_name": "Python 3",
   "language": "python",
   "name": "python3"
  },
  "language_info": {
   "codemirror_mode": {
    "name": "ipython",
    "version": 3
   },
   "file_extension": ".py",
   "mimetype": "text/x-python",
   "name": "python",
   "nbconvert_exporter": "python",
   "pygments_lexer": "ipython3",
   "version": "3.7.6"
  }
 },
 "nbformat": 4,
 "nbformat_minor": 2
}
